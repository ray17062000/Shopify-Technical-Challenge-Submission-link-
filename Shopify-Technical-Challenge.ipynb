{
  "nbformat": 4,
  "nbformat_minor": 0,
  "metadata": {
    "colab": {
      "name": "Untitled20.ipynb",
      "provenance": []
    },
    "kernelspec": {
      "name": "python3",
      "display_name": "Python 3"
    },
    "language_info": {
      "name": "python"
    }
  },
  "cells": [
    {
      "cell_type": "markdown",
      "metadata": {
        "id": "Wh3meqPePrYc"
      },
      "source": [
        "# The program to answer the following questions"
      ]
    },
    {
      "cell_type": "code",
      "metadata": {
        "id": "TgQJSwSaQLxW"
      },
      "source": [
        "import pandas as pd"
      ],
      "execution_count": 1,
      "outputs": []
    },
    {
      "cell_type": "code",
      "metadata": {
        "id": "fDLn8XnjP4Qi"
      },
      "source": [
        "df = pd.read_excel(\"/content/2019 Winter Data Science Intern Challenge Data Set (1).xlsx\")"
      ],
      "execution_count": 2,
      "outputs": []
    },
    {
      "cell_type": "code",
      "metadata": {
        "colab": {
          "base_uri": "https://localhost:8080/",
          "height": 593
        },
        "id": "-93F8jjuP_cS",
        "outputId": "6f17923a-a2be-48dc-dfcc-7cf33637e604"
      },
      "source": [
        "df"
      ],
      "execution_count": 3,
      "outputs": [
        {
          "output_type": "execute_result",
          "data": {
            "text/html": [
              "<div>\n",
              "<style scoped>\n",
              "    .dataframe tbody tr th:only-of-type {\n",
              "        vertical-align: middle;\n",
              "    }\n",
              "\n",
              "    .dataframe tbody tr th {\n",
              "        vertical-align: top;\n",
              "    }\n",
              "\n",
              "    .dataframe thead th {\n",
              "        text-align: right;\n",
              "    }\n",
              "</style>\n",
              "<table border=\"1\" class=\"dataframe\">\n",
              "  <thead>\n",
              "    <tr style=\"text-align: right;\">\n",
              "      <th></th>\n",
              "      <th>order_id</th>\n",
              "      <th>shop_id</th>\n",
              "      <th>user_id</th>\n",
              "      <th>order_amount</th>\n",
              "      <th>total_items</th>\n",
              "      <th>payment_method</th>\n",
              "      <th>created_at</th>\n",
              "    </tr>\n",
              "  </thead>\n",
              "  <tbody>\n",
              "    <tr>\n",
              "      <th>0</th>\n",
              "      <td>1</td>\n",
              "      <td>53</td>\n",
              "      <td>746</td>\n",
              "      <td>224</td>\n",
              "      <td>2</td>\n",
              "      <td>cash</td>\n",
              "      <td>2017-03-13 12:36:56.190</td>\n",
              "    </tr>\n",
              "    <tr>\n",
              "      <th>1</th>\n",
              "      <td>2</td>\n",
              "      <td>92</td>\n",
              "      <td>925</td>\n",
              "      <td>90</td>\n",
              "      <td>1</td>\n",
              "      <td>cash</td>\n",
              "      <td>2017-03-03 17:38:51.999</td>\n",
              "    </tr>\n",
              "    <tr>\n",
              "      <th>2</th>\n",
              "      <td>3</td>\n",
              "      <td>44</td>\n",
              "      <td>861</td>\n",
              "      <td>144</td>\n",
              "      <td>1</td>\n",
              "      <td>cash</td>\n",
              "      <td>2017-03-14 04:23:55.595</td>\n",
              "    </tr>\n",
              "    <tr>\n",
              "      <th>3</th>\n",
              "      <td>4</td>\n",
              "      <td>18</td>\n",
              "      <td>935</td>\n",
              "      <td>156</td>\n",
              "      <td>1</td>\n",
              "      <td>credit_card</td>\n",
              "      <td>2017-03-26 12:43:36.649</td>\n",
              "    </tr>\n",
              "    <tr>\n",
              "      <th>4</th>\n",
              "      <td>5</td>\n",
              "      <td>18</td>\n",
              "      <td>883</td>\n",
              "      <td>156</td>\n",
              "      <td>1</td>\n",
              "      <td>credit_card</td>\n",
              "      <td>2017-03-01 04:35:10.773</td>\n",
              "    </tr>\n",
              "    <tr>\n",
              "      <th>...</th>\n",
              "      <td>...</td>\n",
              "      <td>...</td>\n",
              "      <td>...</td>\n",
              "      <td>...</td>\n",
              "      <td>...</td>\n",
              "      <td>...</td>\n",
              "      <td>...</td>\n",
              "    </tr>\n",
              "    <tr>\n",
              "      <th>4995</th>\n",
              "      <td>4996</td>\n",
              "      <td>73</td>\n",
              "      <td>993</td>\n",
              "      <td>330</td>\n",
              "      <td>2</td>\n",
              "      <td>debit</td>\n",
              "      <td>2017-03-30 13:47:16.597</td>\n",
              "    </tr>\n",
              "    <tr>\n",
              "      <th>4996</th>\n",
              "      <td>4997</td>\n",
              "      <td>48</td>\n",
              "      <td>789</td>\n",
              "      <td>234</td>\n",
              "      <td>2</td>\n",
              "      <td>cash</td>\n",
              "      <td>2017-03-16 20:36:16.389</td>\n",
              "    </tr>\n",
              "    <tr>\n",
              "      <th>4997</th>\n",
              "      <td>4998</td>\n",
              "      <td>56</td>\n",
              "      <td>867</td>\n",
              "      <td>351</td>\n",
              "      <td>3</td>\n",
              "      <td>cash</td>\n",
              "      <td>2017-03-19 05:42:42.228</td>\n",
              "    </tr>\n",
              "    <tr>\n",
              "      <th>4998</th>\n",
              "      <td>4999</td>\n",
              "      <td>60</td>\n",
              "      <td>825</td>\n",
              "      <td>354</td>\n",
              "      <td>2</td>\n",
              "      <td>credit_card</td>\n",
              "      <td>2017-03-16 14:51:18.188</td>\n",
              "    </tr>\n",
              "    <tr>\n",
              "      <th>4999</th>\n",
              "      <td>5000</td>\n",
              "      <td>44</td>\n",
              "      <td>734</td>\n",
              "      <td>288</td>\n",
              "      <td>2</td>\n",
              "      <td>debit</td>\n",
              "      <td>2017-03-18 15:48:18.205</td>\n",
              "    </tr>\n",
              "  </tbody>\n",
              "</table>\n",
              "<p>5000 rows × 7 columns</p>\n",
              "</div>"
            ],
            "text/plain": [
              "      order_id  shop_id  ...  payment_method              created_at\n",
              "0            1       53  ...            cash 2017-03-13 12:36:56.190\n",
              "1            2       92  ...            cash 2017-03-03 17:38:51.999\n",
              "2            3       44  ...            cash 2017-03-14 04:23:55.595\n",
              "3            4       18  ...     credit_card 2017-03-26 12:43:36.649\n",
              "4            5       18  ...     credit_card 2017-03-01 04:35:10.773\n",
              "...        ...      ...  ...             ...                     ...\n",
              "4995      4996       73  ...           debit 2017-03-30 13:47:16.597\n",
              "4996      4997       48  ...            cash 2017-03-16 20:36:16.389\n",
              "4997      4998       56  ...            cash 2017-03-19 05:42:42.228\n",
              "4998      4999       60  ...     credit_card 2017-03-16 14:51:18.188\n",
              "4999      5000       44  ...           debit 2017-03-18 15:48:18.205\n",
              "\n",
              "[5000 rows x 7 columns]"
            ]
          },
          "metadata": {
            "tags": []
          },
          "execution_count": 3
        }
      ]
    },
    {
      "cell_type": "code",
      "metadata": {
        "colab": {
          "base_uri": "https://localhost:8080/"
        },
        "id": "GTBJ0lagQA92",
        "outputId": "2d090eda-52ad-49ca-e9fe-90b8d8b850bc"
      },
      "source": [
        "total_revenue = df['order_amount'].sum()\n",
        "print(\"total revenue = \",total_revenue)\n",
        "number_of_order = df['total_items'].sum()\n",
        "print(\"total number of orders = \",number_of_order)\n",
        "aov = total_revenue/number_of_order\n",
        "print(\"AOV = \",aov)"
      ],
      "execution_count": 4,
      "outputs": [
        {
          "output_type": "stream",
          "text": [
            "total revenue =  15725640\n",
            "total number of orders =  43936\n",
            "AOV =  357.92152221412965\n"
          ],
          "name": "stdout"
        }
      ]
    },
    {
      "cell_type": "code",
      "metadata": {
        "colab": {
          "base_uri": "https://localhost:8080/",
          "height": 167
        },
        "id": "TE_xKJslQFoj",
        "outputId": "7bba7abd-8d3d-4e96-a7bf-2881e0e6470e"
      },
      "source": [
        "df1 =  pd.DataFrame(df , columns=[\"order_amount\",\"total_items\",\"payment_method\"] )\n",
        "df2 = df1.groupby([\"payment_method\"]).sum()\n",
        "df2['aov'] = df2[\"order_amount\"]/df2[\"total_items\"]\n",
        "df2"
      ],
      "execution_count": 5,
      "outputs": [
        {
          "output_type": "execute_result",
          "data": {
            "text/html": [
              "<div>\n",
              "<style scoped>\n",
              "    .dataframe tbody tr th:only-of-type {\n",
              "        vertical-align: middle;\n",
              "    }\n",
              "\n",
              "    .dataframe tbody tr th {\n",
              "        vertical-align: top;\n",
              "    }\n",
              "\n",
              "    .dataframe thead th {\n",
              "        text-align: right;\n",
              "    }\n",
              "</style>\n",
              "<table border=\"1\" class=\"dataframe\">\n",
              "  <thead>\n",
              "    <tr style=\"text-align: right;\">\n",
              "      <th></th>\n",
              "      <th>order_amount</th>\n",
              "      <th>total_items</th>\n",
              "      <th>aov</th>\n",
              "    </tr>\n",
              "    <tr>\n",
              "      <th>payment_method</th>\n",
              "      <th></th>\n",
              "      <th></th>\n",
              "      <th></th>\n",
              "    </tr>\n",
              "  </thead>\n",
              "  <tbody>\n",
              "    <tr>\n",
              "      <th>cash</th>\n",
              "      <td>1164183</td>\n",
              "      <td>3130</td>\n",
              "      <td>371.943450</td>\n",
              "    </tr>\n",
              "    <tr>\n",
              "      <th>credit_card</th>\n",
              "      <td>12945867</td>\n",
              "      <td>37415</td>\n",
              "      <td>346.007403</td>\n",
              "    </tr>\n",
              "    <tr>\n",
              "      <th>debit</th>\n",
              "      <td>1615590</td>\n",
              "      <td>3391</td>\n",
              "      <td>476.434680</td>\n",
              "    </tr>\n",
              "  </tbody>\n",
              "</table>\n",
              "</div>"
            ],
            "text/plain": [
              "                order_amount  total_items         aov\n",
              "payment_method                                       \n",
              "cash                 1164183         3130  371.943450\n",
              "credit_card         12945867        37415  346.007403\n",
              "debit                1615590         3391  476.434680"
            ]
          },
          "metadata": {
            "tags": []
          },
          "execution_count": 5
        }
      ]
    },
    {
      "cell_type": "code",
      "metadata": {
        "colab": {
          "base_uri": "https://localhost:8080/"
        },
        "id": "U5QMmbcYQH0i",
        "outputId": "d3f29ca8-fb89-42dc-c860-e1bb1662e155"
      },
      "source": [
        "df2[\"aov\"].sum()"
      ],
      "execution_count": 6,
      "outputs": [
        {
          "output_type": "execute_result",
          "data": {
            "text/plain": [
              "1194.385533962436"
            ]
          },
          "metadata": {
            "tags": []
          },
          "execution_count": 6
        }
      ]
    },
    {
      "cell_type": "markdown",
      "metadata": {
        "id": "Qkr5X05kQeLq"
      },
      "source": [
        "### Question a)  Think about what could be going wrong with our calculation. Think about a better way to evaluate this data. "
      ]
    },
    {
      "cell_type": "markdown",
      "metadata": {
        "id": "xCNpwqc-Qna-"
      },
      "source": [
        "\n",
        "\n",
        "1.   There must have been an error in calculating the total number of orders mostly the total number of orders is very less then the actual number. \n",
        "2.   The other reason is that the total order \n",
        "amount sum is more than the actual amount.\n",
        "\n",
        "\n",
        "\n",
        "\n",
        "\n"
      ]
    },
    {
      "cell_type": "markdown",
      "metadata": {
        "id": "xNuP7VJQTIuy"
      },
      "source": [
        "### Question b) What metric would you report for this dataset?\n",
        "\n",
        "I would suggest the Average Order Value Metric because The average order value is a comparison of the number of orders to the total revenue. This is important because it provides insight into how much contacts are spending, on average, each time an order is placed."
      ]
    },
    {
      "cell_type": "markdown",
      "metadata": {
        "id": "wADxATj2TxP3"
      },
      "source": [
        "### Question c) What is its value?\n",
        "The value of AOV metric is: 357.921522214"
      ]
    }
  ]
}